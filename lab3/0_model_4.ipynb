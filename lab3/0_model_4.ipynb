{
 "cells": [
  {
   "cell_type": "code",
   "execution_count": 1,
   "id": "f22add98",
   "metadata": {
    "ExecuteTime": {
     "start_time": "2023-04-09T09:39:13.312515Z",
     "end_time": "2023-04-09T09:39:13.652842Z"
    }
   },
   "outputs": [],
   "source": [
    "import pandas as pd\n",
    "from datetime import time\n",
    "import csv\n",
    "import pickle\n",
    "from datetime import datetime\n",
    "import numpy as np\n",
    "import matplotlib.pyplot as plt\n",
    "import seaborn as sns\n",
    "from sklearn import metrics\n",
    "import numpy\n",
    "from sklearn.model_selection import train_test_split\n",
    "from sklearn.metrics import accuracy_score\n",
    "from sklearn.metrics import precision_recall_fscore_support\n",
    "from sklearn.ensemble import RandomForestRegressor\n",
    "import sys"
   ]
  },
  {
   "cell_type": "code",
   "execution_count": 2,
   "id": "35abfb72",
   "metadata": {
    "ExecuteTime": {
     "start_time": "2023-04-09T09:39:13.656649Z",
     "end_time": "2023-04-09T09:39:13.658625Z"
    }
   },
   "outputs": [],
   "source": [
    "# addition funcs\n",
    "def findRegion(check):\n",
    "    for region in regions:\n",
    "        for regionTemp in region:\n",
    "            if regionTemp == check:\n",
    "                return region[4]\n",
    "    return None\n",
    "\n",
    "def alarmsToDict(alarms):\n",
    "    res = {}\n",
    "    for alarm in alarms:\n",
    "        temp = alarm[0].split(\";\")\n",
    "        check1 = findRegion(temp[2].replace(\"\\\"\", \"\").replace(\" \", \"\"))\n",
    "        check2 = findRegion(temp[3].replace(\"\\\"\", \"\").replace(\" \", \"\"))\n",
    "        if check1 is None:\n",
    "            check1 = check2\n",
    "        try:\n",
    "            res[check1]\n",
    "        except (KeyError):\n",
    "            res[check1] = []\n",
    "        res[check1].append(pd.to_datetime(temp[5].replace(\"\\\"\", \"\")))\n",
    "        res[check1].append(pd.to_datetime(temp[6].replace(\"\\\"\", \"\")))\n",
    "    return res\n",
    "\n",
    "def findDate(dates, dateTemp):\n",
    "    for date in dates:\n",
    "        if date == dateTemp:\n",
    "            return True\n",
    "        if date > dateTemp:\n",
    "            return False\n",
    "    return False\n",
    "\n",
    "\n",
    "def findVector(vectors, dates, date):\n",
    "    for i in range(len(dates)):\n",
    "        if dates[i] == date:\n",
    "            return vectors[i]\n",
    "            \n",
    "    return None\n",
    "\n",
    "def getAlarmByDate(location, date, alarmsDict):\n",
    "    started = False\n",
    "    for data in alarmsDict[location]:\n",
    "        if data > (date + pd.Timedelta(hours=1, minutes=0, seconds=0)):\n",
    "            if started:\n",
    "                return 1\n",
    "            else:\n",
    "                return 0\n",
    "            break\n",
    "        started = not started\n",
    "    return 0"
   ]
  },
  {
   "cell_type": "code",
   "execution_count": 3,
   "id": "fd7d9954",
   "metadata": {
    "ExecuteTime": {
     "start_time": "2023-04-09T09:39:13.662280Z",
     "end_time": "2023-04-09T09:39:15.733608Z"
    }
   },
   "outputs": [
    {
     "name": "stdout",
     "output_type": "stream",
     "text": [
      "32\n",
      "<class 'numpy.int64'>\n",
      "24\n",
      "<class 'float'>\n"
     ]
    }
   ],
   "source": [
    "INPUT_DATA_FOLDER = \"data/modified\"\n",
    "WEATHER_FILE = \"all_weather_by_hour6.csv\"\n",
    "ALARMS_FILE = \"alarms.csv\"\n",
    "REGION_FILE = \"regions.csv\"\n",
    "DATES_FILE = \"dates.pkl\"\n",
    "VECTOR_FILE = \"word_count_vector.pkl\"\n",
    "\n",
    "with open(f\"{INPUT_DATA_FOLDER}/{VECTOR_FILE}\", 'rb') as datafile:\n",
    "    vectors = pickle.load(datafile)\n",
    "\n",
    "vectors = vectors.toarray()\n",
    "vectorsFloat = []\n",
    "print(sys.getsizeof(vectors[0][0]))\n",
    "print(type(vectors[0][0]))\n",
    "\n",
    "for i in range(len(vectors)):\n",
    "    vectorsFloat.append([])\n",
    "    for j in range(len(vectors[i])):\n",
    "        vectorsFloat[i].append(float(vectors[i][j]))\n",
    "\n",
    "vectors = []\n",
    "print(sys.getsizeof(vectorsFloat[0][0]))\n",
    "print(type(vectorsFloat[0][0]))\n",
    "with open(f\"{INPUT_DATA_FOLDER}/{WEATHER_FILE}\", newline='', encoding='utf-8') as csvfile:\n",
    "    test_data = list(csv.reader(csvfile))[1:]\n",
    "    \n",
    "with open(f\"{INPUT_DATA_FOLDER}/{ALARMS_FILE}\", newline='', encoding='utf-8') as csvfile:\n",
    "    alarms = list(csv.reader(csvfile))[1:]\n",
    "    \n",
    "with open(f\"{INPUT_DATA_FOLDER}/{REGION_FILE}\", newline='', encoding='utf-8') as csvfile:\n",
    "    regions = list(csv.reader(csvfile))\n",
    "    \n",
    "with open(f\"{INPUT_DATA_FOLDER}/{DATES_FILE}\", 'rb') as datafile:\n",
    "    dates = pickle.load(datafile)\n",
    "    \n",
    "for i in range(len(dates)):\n",
    "    dates[i] = pd.to_datetime(dates[i].replace(\".txt\", \"\"), format=\"%d:%m:%y\")\n",
    "dates = sorted(dates)"
   ]
  },
  {
   "cell_type": "code",
   "execution_count": 4,
   "id": "cc14136c",
   "metadata": {
    "ExecuteTime": {
     "start_time": "2023-04-09T09:39:15.732943Z",
     "end_time": "2023-04-09T09:39:22.645293Z"
    }
   },
   "outputs": [],
   "source": [
    "alarmsDict = alarmsToDict(alarms)\n",
    "for key in alarmsDict.keys():\n",
    "    alarmsDict[key].sort()\n",
    "    alarmsDict[key] = list(dict.fromkeys(alarmsDict[key]))"
   ]
  },
  {
   "cell_type": "code",
   "execution_count": 5,
   "id": "048cf800",
   "metadata": {
    "ExecuteTime": {
     "start_time": "2023-04-09T09:39:22.687679Z",
     "end_time": "2023-04-09T09:49:15.613296Z"
    }
   },
   "outputs": [
    {
     "name": "stdout",
     "output_type": "stream",
     "text": [
      "190656\n",
      "0\n",
      "10000\n",
      "20000\n",
      "30000\n",
      "40000\n",
      "50000\n",
      "60000\n",
      "70000\n",
      "80000\n",
      "90000\n",
      "100000\n",
      "110000\n",
      "120000\n",
      "130000\n",
      "140000\n",
      "150000\n",
      "160000\n",
      "170000\n",
      "180000\n",
      "190000\n"
     ]
    }
   ],
   "source": [
    "alarmsBit = []\n",
    "dayConditions = {}\n",
    "dayIcons = {}\n",
    "hourConditions = {}\n",
    "hourIcons = {}\n",
    "dayConditionsIndex = 28\n",
    "dayIconsIndex = 29\n",
    "hourConditionsIndex = 48\n",
    "hourIconsIndex = 49\n",
    "indexsToRemove = []\n",
    "print(len(test_data))\n",
    "for i in range(len(test_data)):\n",
    "    if i % 10000 == 0:\n",
    "        print(i)\n",
    "    x = test_data[i]\n",
    "    x[0] = findRegion(x[0].split(\",\")[0])\n",
    "    date = pd.to_datetime(x[1])\n",
    "    if not findDate(dates, date):\n",
    "        indexsToRemove.append(i - len(indexsToRemove))\n",
    "        continue\n",
    "    alarmsBit.append(getAlarmByDate(x[0], pd.Timestamp.combine(date, pd.to_datetime(x[30]).time()), alarmsDict)) \n",
    "#     remove  time\n",
    "    x.pop(30)\n",
    "    try:\n",
    "        x[dayConditionsIndex] = dayConditions[x[dayConditionsIndex]]\n",
    "    except (KeyError):\n",
    "        dayConditions[x[dayConditionsIndex]] = len(dayConditions) + 1\n",
    "        x[dayConditionsIndex] = dayConditions[x[dayConditionsIndex]]\n",
    "    try:\n",
    "        x[dayIconsIndex] = dayIcons[x[dayIconsIndex]]\n",
    "    except (KeyError):\n",
    "        dayIcons[x[dayIconsIndex]] = len(dayIcons) + 1\n",
    "        x[dayIconsIndex] = dayIcons[x[dayIconsIndex]]\n",
    "    \n",
    "    try:\n",
    "        x[hourConditionsIndex] = hourConditions[x[hourConditionsIndex]]\n",
    "    except (KeyError):\n",
    "        hourConditions[x[hourConditionsIndex]] = len(hourConditions) + 1\n",
    "        x[hourConditionsIndex] = hourConditions[x[hourConditionsIndex]]\n",
    "    try:\n",
    "        x[hourIconsIndex] = hourIcons[x[hourIconsIndex]]\n",
    "    except (KeyError):\n",
    "        hourIcons[x[hourIconsIndex]] = len(hourIcons) + 1\n",
    "        x[hourIconsIndex] = hourIcons[x[hourIconsIndex]]\n",
    "    \n",
    "#     remove date\n",
    "    x.pop(1)\n",
    "    vector = findVector(vectorsFloat, dates, date)\n",
    "    if vector is None:\n",
    "        print(date)\n",
    "        continue\n",
    "    x.extend(vector)\n",
    "    \n",
    "#     weather.append(temp.copy())\n",
    "dayConditions = {}\n",
    "dayIcons = {}\n",
    "hourConditions = {}\n",
    "hourIcons = {}\n",
    "alarmsDict = {}\n",
    "vectorsFloat = []"
   ]
  },
  {
   "cell_type": "code",
   "execution_count": 6,
   "id": "0107683e",
   "metadata": {
    "ExecuteTime": {
     "start_time": "2023-04-09T09:49:15.645267Z",
     "end_time": "2023-04-09T09:49:15.648615Z"
    }
   },
   "outputs": [
    {
     "name": "stdout",
     "output_type": "stream",
     "text": [
      "1728\n",
      "188928\n",
      "188928\n"
     ]
    }
   ],
   "source": [
    "print(len(indexsToRemove))\n",
    "\n",
    "for index in indexsToRemove:\n",
    "    test_data.pop(index)\n",
    "print(len(test_data))\n",
    "print(len(alarmsBit))"
   ]
  },
  {
   "cell_type": "code",
   "execution_count": 7,
   "id": "6469608d",
   "metadata": {
    "ExecuteTime": {
     "start_time": "2023-04-09T09:49:15.670877Z",
     "end_time": "2023-04-09T09:49:15.691192Z"
    }
   },
   "outputs": [],
   "source": [
    "types = {}\n",
    "# for x in range(len(alarmsBit)):\n",
    "#     if type(alarmsBit[x]) is not int:\n",
    "#         alarmsBit[x] = 0\n",
    "            \n",
    "for x in range(len(alarmsBit)):\n",
    "    types[type(alarmsBit[x])] = 1"
   ]
  },
  {
   "cell_type": "code",
   "execution_count": 8,
   "id": "18011ad6",
   "metadata": {
    "ExecuteTime": {
     "start_time": "2023-04-09T09:49:15.735782Z",
     "end_time": "2023-04-09T09:54:31.084055Z"
    }
   },
   "outputs": [],
   "source": [
    "for x in test_data:\n",
    "    for i in range(len(x)):\n",
    "        if x[i] == '':\n",
    "            x[i] = 0.0\n",
    "        if type(x[i]) is str:\n",
    "            x[i] = float(x[i])\n",
    "        if type(x[i]) is int:\n",
    "            x[i] = float(x[i])"
   ]
  },
  {
   "cell_type": "code",
   "execution_count": 9,
   "id": "28955c59",
   "metadata": {
    "ExecuteTime": {
     "start_time": "2023-04-09T09:54:31.089222Z",
     "end_time": "2023-04-09T09:57:00.206955Z"
    }
   },
   "outputs": [],
   "source": [
    "types = {}\n",
    "for x in test_data:\n",
    "    for i in range(len(x)):\n",
    "        types[type(x[i])] = 1"
   ]
  },
  {
   "cell_type": "code",
   "execution_count": 39,
   "id": "64259adb",
   "metadata": {
    "ExecuteTime": {
     "start_time": "2023-04-09T11:50:11.297244Z",
     "end_time": "2023-04-09T12:00:51.732218Z"
    }
   },
   "outputs": [],
   "source": [
    "from sklearn.pipeline import make_pipeline\n",
    "from sklearn.preprocessing import StandardScaler\n",
    "from sklearn.linear_model import SGDRegressor\n",
    "\n",
    "X_train, X_test, y_train, y_test = train_test_split(test_data, alarmsBit, test_size=0.20, shuffle=True)\n",
    "                                                    \n",
    "\n",
    "sgd_reg_model = make_pipeline(StandardScaler(),SGDRegressor(max_iter=5000, tol=1e-3))\n",
    "# Train (fit) the model\n",
    "sgd_reg_model.fit(X_train, y_train)\n",
    "# Save model\n",
    "with open(f\"models/model_4.pkl\", \"wb\") as handle:\n",
    "        pickle.dump(sgd_reg_model, handle)\n",
    "# with open(f\"{INPUT_DATA_FOLDER}/{VECTOR_FILE}\", 'rb') as datafile:\n",
    "#     vectors = pickle.load(datafile)\n"
   ]
  },
  {
   "cell_type": "code",
   "execution_count": 40,
   "outputs": [],
   "source": [
    "\n",
    "# Make predictions\n",
    "y_pred = sgd_reg_model.predict(X_test) # Predictions\n",
    "y_true = y_test # True values"
   ],
   "metadata": {
    "collapsed": false,
    "ExecuteTime": {
     "start_time": "2023-04-09T12:01:13.560251Z",
     "end_time": "2023-04-09T12:01:29.180679Z"
    }
   }
  },
  {
   "cell_type": "code",
   "execution_count": 36,
   "outputs": [
    {
     "name": "stdout",
     "output_type": "stream",
     "text": [
      "Accuracy: 0.54\n"
     ]
    }
   ],
   "source": [
    "y_pred_binary = list(map(round,y_pred))\n",
    "# Model evaluation\n",
    "print(\"Accuracy:\", np.round(accuracy_score(y_true, y_pred_binary), 2))\n",
    "precision, recall, fscore, _ = precision_recall_fscore_support(y_true, y_pred_binary, average='binary')\n"
   ],
   "metadata": {
    "collapsed": false,
    "ExecuteTime": {
     "start_time": "2023-04-09T11:48:56.792442Z",
     "end_time": "2023-04-09T11:48:56.847213Z"
    }
   }
  },
  {
   "cell_type": "code",
   "execution_count": 41,
   "id": "fce31640",
   "metadata": {
    "ExecuteTime": {
     "start_time": "2023-04-09T12:01:37.924424Z",
     "end_time": "2023-04-09T12:01:37.951161Z"
    }
   },
   "outputs": [
    {
     "data": {
      "text/plain": "array([[15781, 10021],\n       [ 7336,  4648]])"
     },
     "execution_count": 41,
     "metadata": {},
     "output_type": "execute_result"
    }
   ],
   "source": [
    "cnf_matrix = metrics.confusion_matrix(y_test, y_pred_binary)\n",
    "cnf_matrix"
   ]
  },
  {
   "cell_type": "code",
   "execution_count": 42,
   "id": "4cc5e08d",
   "metadata": {
    "ExecuteTime": {
     "start_time": "2023-04-09T12:01:41.579039Z",
     "end_time": "2023-04-09T12:01:41.852603Z"
    }
   },
   "outputs": [
    {
     "data": {
      "text/plain": "Text(0.5, 427.9555555555555, 'Predicted label')"
     },
     "execution_count": 42,
     "metadata": {},
     "output_type": "execute_result"
    },
    {
     "data": {
      "text/plain": "<Figure size 640x480 with 2 Axes>",
      "image/png": "[encoded data removed]"
     },
     "metadata": {},
     "output_type": "display_data"
    }
   ],
   "source": [
    "class_names=[0,1] # name  of classes\n",
    "fig, ax = plt.subplots()\n",
    "tick_marks = np.arange(len(class_names))\n",
    "plt.xticks(tick_marks, class_names)\n",
    "plt.yticks(tick_marks, class_names)\n",
    "# create heatmap\n",
    "sns.heatmap(pd.DataFrame(cnf_matrix), annot=True, cmap=\"YlGnBu\" ,fmt='g')\n",
    "ax.xaxis.set_label_position(\"top\")\n",
    "plt.tight_layout()\n",
    "plt.title('Confusion matrix', y=1.1)\n",
    "plt.ylabel('Actual label')\n",
    "plt.xlabel('Predicted label')"
   ]
  },
  {
   "cell_type": "code",
   "execution_count": null,
   "id": "c0b348ea",
   "metadata": {},
   "outputs": [],
   "source": []
  }
 ],
 "metadata": {
  "kernelspec": {
   "display_name": "Python 3 (ipykernel)",
   "language": "python",
   "name": "python3"
  },
  "language_info": {
   "codemirror_mode": {
    "name": "ipython",
    "version": 3
   },
   "file_extension": ".py",
   "mimetype": "text/x-python",
   "name": "python",
   "nbconvert_exporter": "python",
   "pygments_lexer": "ipython3",
   "version": "3.9.13"
  }
 },
 "nbformat": 4,
 "nbformat_minor": 5
}
