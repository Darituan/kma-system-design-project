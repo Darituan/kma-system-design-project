{
 "cells": [
  {
   "cell_type": "code",
   "execution_count": 1,
   "id": "25090efc",
   "metadata": {},
   "outputs": [
    {
     "name": "stderr",
     "output_type": "stream",
     "text": [
      "Intel(R) Extension for Scikit-learn* enabled (https://github.com/intel/scikit-learn-intelex)\n"
     ]
    }
   ],
   "source": [
    "from sklearnex import patch_sklearn\n",
    "patch_sklearn()\n",
    "\n",
    "import pandas as pd\n",
    "from datetime import time\n",
    "import csv\n",
    "import pickle\n",
    "from datetime import datetime\n",
    "import numpy as np\n",
    "import matplotlib.pyplot as plt\n",
    "import seaborn as sns\n",
    "from sklearn import metrics\n",
    "import numpy\n",
    "from sklearn.model_selection import train_test_split\n",
    "from sklearn.model_selection import GridSearchCV\n",
    "from sklearn.experimental import enable_halving_search_cv\n",
    "from sklearn.model_selection import HalvingGridSearchCV\n",
    "from sklearn.metrics import accuracy_score\n",
    "from sklearn.metrics import precision_recall_fscore_support\n",
    "from sklearn.metrics import classification_report\n",
    "from sklearn.neighbors import KNeighborsRegressor\n",
    "import sys"
   ]
  },
  {
   "cell_type": "code",
   "execution_count": 2,
   "id": "18fef2e8",
   "metadata": {},
   "outputs": [],
   "source": [
    "# addition funcs\n",
    "def findRegion(check):\n",
    "    for region in regions:\n",
    "        for regionTemp in region:\n",
    "            if regionTemp == check:\n",
    "                return region[4]\n",
    "    return None\n",
    "\n",
    "def alarmsToDict(alarms):\n",
    "    res = {}\n",
    "    for alarm in alarms:\n",
    "        temp = alarm[0].split(\";\")\n",
    "        check1 = findRegion(temp[2].replace(\"\\\"\", \"\").replace(\" \", \"\"))\n",
    "        check2 = findRegion(temp[3].replace(\"\\\"\", \"\").replace(\" \", \"\"))\n",
    "        if check1 is None:\n",
    "            check1 = check2\n",
    "        try:\n",
    "            res[check1]\n",
    "        except (KeyError):\n",
    "            res[check1] = []\n",
    "        res[check1].append(pd.to_datetime(temp[5].replace(\"\\\"\", \"\")))\n",
    "        res[check1].append(pd.to_datetime(temp[6].replace(\"\\\"\", \"\")))\n",
    "    return res\n",
    "\n",
    "def findDate(dates, dateTemp):\n",
    "    for date in dates:\n",
    "        if date == dateTemp:\n",
    "            return True\n",
    "        if date > dateTemp:\n",
    "            return False\n",
    "    return False\n",
    "\n",
    "\n",
    "def findVector(vectors, dates, date):\n",
    "    for i in range(len(dates)):\n",
    "        if dates[i] == date:\n",
    "            return vectors[i]\n",
    "            \n",
    "    return None\n",
    "\n",
    "def getAlarmByDate(location, date, alarmsDict):\n",
    "    started = False\n",
    "    for data in alarmsDict[location]:\n",
    "        if data > (date + pd.Timedelta(hours=1, minutes=0, seconds=0)):\n",
    "            if started:\n",
    "                return 1\n",
    "            else:\n",
    "                return 0\n",
    "            break\n",
    "        started = not started\n",
    "    return 0"
   ]
  },
  {
   "cell_type": "code",
   "execution_count": 3,
   "id": "2ff6e33e",
   "metadata": {},
   "outputs": [],
   "source": [
    "def print_dataframe(filtered_cv_results):\n",
    "    \"\"\"Pretty print for filtered dataframe\"\"\"\n",
    "    for mean_precision, std_precision, mean_recall, std_recall, params in zip(\n",
    "        filtered_cv_results[\"mean_test_precision\"],\n",
    "        filtered_cv_results[\"std_test_precision\"],\n",
    "        filtered_cv_results[\"mean_test_recall\"],\n",
    "        filtered_cv_results[\"std_test_recall\"],\n",
    "        filtered_cv_results[\"params\"],\n",
    "    ):\n",
    "        print(\n",
    "            f\"precision: {mean_precision:0.3f} (±{std_precision:0.03f}),\"\n",
    "            f\" recall: {mean_recall:0.3f} (±{std_recall:0.03f}),\"\n",
    "            f\" for {params}\"\n",
    "        )\n",
    "    print()"
   ]
  },
  {
   "cell_type": "code",
   "execution_count": 4,
   "id": "1e370cf2",
   "metadata": {},
   "outputs": [
    {
     "name": "stdout",
     "output_type": "stream",
     "text": [
      "32\n",
      "<class 'numpy.int64'>\n",
      "24\n",
      "<class 'float'>\n"
     ]
    }
   ],
   "source": [
    "INPUT_DATA_FOLDER = \"data/modified\"\n",
    "WEATHER_FILE = \"all_weather_by_hour6.csv\"\n",
    "ALARMS_FILE = \"alarms.csv\"\n",
    "REGION_FILE = \"regions.csv\"\n",
    "DATES_FILE = \"dates.pkl\"\n",
    "VECTOR_FILE = \"word_count_vector.pkl\"\n",
    "\n",
    "with open(f\"{INPUT_DATA_FOLDER}/{VECTOR_FILE}\", 'rb') as datafile:\n",
    "    vectors = pickle.load(datafile)\n",
    "\n",
    "vectors = vectors.toarray()\n",
    "vectorsFloat = []\n",
    "print(sys.getsizeof(vectors[0][0]))\n",
    "print(type(vectors[0][0]))\n",
    "\n",
    "for i in range(len(vectors)):\n",
    "    vectorsFloat.append([])\n",
    "    for j in range(len(vectors[i])):\n",
    "        vectorsFloat[i].append(float(vectors[i][j]))\n",
    "\n",
    "vectors = []\n",
    "print(sys.getsizeof(vectorsFloat[0][0]))\n",
    "print(type(vectorsFloat[0][0]))\n",
    "with open(f\"{INPUT_DATA_FOLDER}/{WEATHER_FILE}\", newline='', encoding='utf-8') as csvfile:\n",
    "    test_data = list(csv.reader(csvfile))[1:]\n",
    "    \n",
    "with open(f\"{INPUT_DATA_FOLDER}/{ALARMS_FILE}\", newline='', encoding='utf-8') as csvfile:\n",
    "    alarms = list(csv.reader(csvfile))[1:]\n",
    "    \n",
    "with open(f\"{INPUT_DATA_FOLDER}/{REGION_FILE}\", newline='', encoding='utf-8') as csvfile:\n",
    "    regions = list(csv.reader(csvfile))\n",
    "    \n",
    "with open(f\"{INPUT_DATA_FOLDER}/{DATES_FILE}\", 'rb') as datafile:\n",
    "    dates = pickle.load(datafile)\n",
    "    \n",
    "for i in range(len(dates)):\n",
    "    dates[i] = pd.to_datetime(dates[i].replace(\".txt\", \"\"), format=\"%d:%m:%y\")\n",
    "dates = sorted(dates)"
   ]
  },
  {
   "cell_type": "code",
   "execution_count": 5,
   "id": "0df259cf",
   "metadata": {},
   "outputs": [],
   "source": [
    "alarmsDict = alarmsToDict(alarms)\n",
    "for key in alarmsDict.keys():\n",
    "    alarmsDict[key].sort()\n",
    "    alarmsDict[key] = list(dict.fromkeys(alarmsDict[key]))"
   ]
  },
  {
   "cell_type": "code",
   "execution_count": 6,
   "id": "4ec654fa",
   "metadata": {},
   "outputs": [
    {
     "name": "stdout",
     "output_type": "stream",
     "text": [
      "190656\n",
      "0\n",
      "10000\n",
      "20000\n",
      "30000\n",
      "40000\n",
      "50000\n",
      "60000\n",
      "70000\n",
      "80000\n",
      "90000\n",
      "100000\n",
      "110000\n",
      "120000\n",
      "130000\n",
      "140000\n",
      "150000\n",
      "160000\n",
      "170000\n",
      "180000\n",
      "190000\n"
     ]
    }
   ],
   "source": [
    "alarmsBit = []\n",
    "dayConditions = {}\n",
    "dayIcons = {}\n",
    "hourConditions = {}\n",
    "hourIcons = {}\n",
    "dayConditionsIndex = 28\n",
    "dayIconsIndex = 29\n",
    "hourConditionsIndex = 48\n",
    "hourIconsIndex = 49\n",
    "indexsToRemove = []\n",
    "print(len(test_data))\n",
    "for i in range(len(test_data)):\n",
    "    if i % 10000 == 0:\n",
    "        print(i)\n",
    "    x = test_data[i]\n",
    "    x[0] = findRegion(x[0].split(\",\")[0])\n",
    "    date = pd.to_datetime(x[1])\n",
    "    if not findDate(dates, date):\n",
    "        indexsToRemove.append(i - len(indexsToRemove))\n",
    "        continue\n",
    "    alarmsBit.append(getAlarmByDate(x[0], pd.Timestamp.combine(date, pd.to_datetime(x[30]).time()), alarmsDict)) \n",
    "#     remove  time\n",
    "    x.pop(30)\n",
    "    try:\n",
    "        x[dayConditionsIndex] = dayConditions[x[dayConditionsIndex]]\n",
    "    except (KeyError):\n",
    "        dayConditions[x[dayConditionsIndex]] = len(dayConditions) + 1\n",
    "        x[dayConditionsIndex] = dayConditions[x[dayConditionsIndex]]\n",
    "    try:\n",
    "        x[dayIconsIndex] = dayIcons[x[dayIconsIndex]]\n",
    "    except (KeyError):\n",
    "        dayIcons[x[dayIconsIndex]] = len(dayIcons) + 1\n",
    "        x[dayIconsIndex] = dayIcons[x[dayIconsIndex]]\n",
    "    \n",
    "    try:\n",
    "        x[hourConditionsIndex] = hourConditions[x[hourConditionsIndex]]\n",
    "    except (KeyError):\n",
    "        hourConditions[x[hourConditionsIndex]] = len(hourConditions) + 1\n",
    "        x[hourConditionsIndex] = hourConditions[x[hourConditionsIndex]]\n",
    "    try:\n",
    "        x[hourIconsIndex] = hourIcons[x[hourIconsIndex]]\n",
    "    except (KeyError):\n",
    "        hourIcons[x[hourIconsIndex]] = len(hourIcons) + 1\n",
    "        x[hourIconsIndex] = hourIcons[x[hourIconsIndex]]\n",
    "    \n",
    "#     remove date\n",
    "    x.pop(1)\n",
    "    vector = findVector(vectorsFloat, dates, date)\n",
    "    if vector is None:\n",
    "        print(date)\n",
    "        continue\n",
    "    x.extend(vector)\n",
    "    \n",
    "#     weather.append(temp.copy())\n",
    "dayConditions = {}\n",
    "dayIcons = {}\n",
    "hourConditions = {}\n",
    "hourIcons = {}\n",
    "alarmsDict = {}\n",
    "vectorsFloat = []"
   ]
  },
  {
   "cell_type": "code",
   "execution_count": 7,
   "id": "08416695",
   "metadata": {},
   "outputs": [
    {
     "name": "stdout",
     "output_type": "stream",
     "text": [
      "1728\n",
      "188928\n",
      "188928\n"
     ]
    }
   ],
   "source": [
    "print(len(indexsToRemove))\n",
    "\n",
    "for index in indexsToRemove:\n",
    "    test_data.pop(index)\n",
    "print(len(test_data))\n",
    "print(len(alarmsBit))"
   ]
  },
  {
   "cell_type": "code",
   "execution_count": 18,
   "id": "a340fa80",
   "metadata": {},
   "outputs": [],
   "source": [
    "types = {}\n",
    "# for x in range(len(alarmsBit)):\n",
    "#     if type(alarmsBit[x]) is not int:\n",
    "#         alarmsBit[x] = 0\n",
    "            \n",
    "for x in range(len(alarmsBit)):\n",
    "    types[type(alarmsBit[x])] = 1"
   ]
  },
  {
   "cell_type": "code",
   "execution_count": 8,
   "id": "f2fb4af3",
   "metadata": {},
   "outputs": [],
   "source": [
    "for x in test_data:\n",
    "    for i in range(len(x)):\n",
    "        if x[i] == '':\n",
    "            x[i] = 0.0\n",
    "        if type(x[i]) is str:\n",
    "            x[i] = float(x[i])\n",
    "        if type(x[i]) is int:\n",
    "            x[i] = float(x[i])"
   ]
  },
  {
   "cell_type": "code",
   "execution_count": 20,
   "id": "26d430aa",
   "metadata": {},
   "outputs": [],
   "source": [
    "types = {}\n",
    "for x in test_data:\n",
    "    for i in range(len(x)):\n",
    "        types[type(x[i])] = 1"
   ]
  },
  {
   "cell_type": "code",
   "execution_count": 9,
   "id": "ef277853",
   "metadata": {},
   "outputs": [],
   "source": [
    "with open(f\"models/test_data.pkl\", \"wb\") as handle:\n",
    "        pickle.dump(test_data, handle)\n",
    "with open(f\"models/alarmsBit.pkl\", \"wb\") as handle:\n",
    "        pickle.dump(alarmsBit, handle)"
   ]
  },
  {
   "cell_type": "code",
   "execution_count": 4,
   "id": "25976441",
   "metadata": {},
   "outputs": [],
   "source": [
    "test_data = []\n",
    "alarmsBit = []\n",
    "with open(f\"models/test_data.pkl\", \"rb\") as handle:\n",
    "        test_data = pickle.load(handle)\n",
    "with open(f\"models/alarmsBit.pkl\", \"rb\") as handle:\n",
    "        alarmsBit = pickle.load(handle)"
   ]
  },
  {
   "cell_type": "code",
   "execution_count": 5,
   "id": "ddf11713",
   "metadata": {},
   "outputs": [],
   "source": [
    "X_train, X_test, y_train, y_test = train_test_split(test_data, alarmsBit, test_size=0.20, shuffle=True)"
   ]
  },
  {
   "cell_type": "code",
   "execution_count": 6,
   "id": "6fcf1abd",
   "metadata": {},
   "outputs": [],
   "source": [
    "X_train_np = np.array(X_train)"
   ]
  },
  {
   "cell_type": "code",
   "execution_count": 7,
   "id": "c837217b",
   "metadata": {},
   "outputs": [
    {
     "name": "stdout",
     "output_type": "stream",
     "text": [
      "151142\n"
     ]
    }
   ],
   "source": [
    "print(len(X_train_np))"
   ]
  },
  {
   "cell_type": "code",
   "execution_count": 8,
   "id": "a0d40a86",
   "metadata": {},
   "outputs": [],
   "source": [
    "y_train_np = np.array(y_train)"
   ]
  },
  {
   "cell_type": "code",
   "execution_count": 9,
   "id": "307af26c",
   "metadata": {},
   "outputs": [],
   "source": [
    "kneigh_model = KNeighborsRegressor(weights='distance', n_jobs=-1)\n",
    "\n",
    "param_grid = {\n",
    "    \"n_neighbors\": np.arange(5, 16, 5),\n",
    "    \"leaf_size\": np.array([15, 30]),\n",
    "}\n",
    "\n",
    "grid_search = HalvingGridSearchCV(\n",
    "    kneigh_model, param_grid=param_grid, factor=2, random_state=np.random.RandomState(0), n_jobs=4)\n",
    "\n",
    "start = datetime.now()\n",
    "\n",
    "grid_search.fit(X_train_np, y_train_np)\n",
    "\n",
    "end = datetime.now()\n",
    "\n",
    "\n",
    "with open(f\"models/time.txt\", \"w\") as handle:\n",
    "        handle.writelines([str(start), str(end)])\n"
   ]
  },
  {
   "cell_type": "code",
   "execution_count": 10,
   "id": "9e3af8a7",
   "metadata": {},
   "outputs": [
    {
     "name": "stdout",
     "output_type": "stream",
     "text": [
      "{'leaf_size': 15, 'n_neighbors': 5}\n"
     ]
    }
   ],
   "source": [
    "print(grid_search.best_params_)"
   ]
  },
  {
   "cell_type": "code",
   "execution_count": 12,
   "id": "4d1c06c7",
   "metadata": {},
   "outputs": [],
   "source": [
    "X_test_np = np.array(X_test)\n",
    "y_test_np = np.array(y_test)\n",
    "                                                    \n",
    "\n",
    "kneigh_model = KNeighborsRegressor(\n",
    "    n_neighbors=grid_search.best_params_['n_neighbors'], \n",
    "    weights='distance', \n",
    "    leaf_size=grid_search.best_params_['leaf_size'], \n",
    "    n_jobs=-1)\n",
    "\n",
    "# Train (fit) the model\n",
    "kneigh_model.fit(X_train_np, y_train_np)\n",
    "# Save model\n",
    "with open(f\"models/model_2_tuned.pkl\", \"wb\") as handle:\n",
    "        pickle.dump(kneigh_model, handle)\n",
    "# with open(f\"{INPUT_DATA_FOLDER}/{VECTOR_FILE}\", 'rb') as datafile:\n",
    "#     vectors = pickle.load(datafile)\n",
    "# Make predictions\n",
    "y_pred = kneigh_model.predict(X_test_np) # Predictions\n",
    "y_true = y_test_np # True values"
   ]
  },
  {
   "cell_type": "code",
   "execution_count": 13,
   "id": "1e668649",
   "metadata": {},
   "outputs": [
    {
     "name": "stdout",
     "output_type": "stream",
     "text": [
      "0\n",
      "1\n"
     ]
    }
   ],
   "source": [
    "y_pred_bit = list(map(round, y_pred))\n",
    "print(y_pred_bit[10])\n",
    "print(y_pred_bit[256])"
   ]
  },
  {
   "cell_type": "code",
   "execution_count": 14,
   "id": "443405a0",
   "metadata": {},
   "outputs": [
    {
     "name": "stdout",
     "output_type": "stream",
     "text": [
      "Accuracy: 0.9116868681522257\n"
     ]
    }
   ],
   "source": [
    "# Model evaluation\n",
    "print(\"Accuracy:\", accuracy_score(y_true, y_pred_bit))\n",
    "precision, recall, fscore, _ = precision_recall_fscore_support(y_true, y_pred_bit,\n",
    "                                                               average='binary')"
   ]
  },
  {
   "cell_type": "code",
   "execution_count": 15,
   "id": "f59aae16",
   "metadata": {},
   "outputs": [
    {
     "data": {
      "text/plain": [
       "array([[24447,  1411],\n",
       "       [ 1926, 10002]], dtype=int64)"
      ]
     },
     "execution_count": 15,
     "metadata": {},
     "output_type": "execute_result"
    }
   ],
   "source": [
    "cnf_matrix = metrics.confusion_matrix(y_test, y_pred_bit)\n",
    "cnf_matrix"
   ]
  },
  {
   "cell_type": "code",
   "execution_count": 16,
   "id": "9591bc3f",
   "metadata": {},
   "outputs": [
    {
     "data": {
      "text/plain": [
       "Text(0.5, 427.9555555555555, 'Predicted label')"
      ]
     },
     "execution_count": 16,
     "metadata": {},
     "output_type": "execute_result"
    },
    {
     "data": {
      "image/png": "[encoded data removed]",
      "text/plain": [
       "<Figure size 640x480 with 2 Axes>"
      ]
     },
     "metadata": {},
     "output_type": "display_data"
    }
   ],
   "source": [
    "class_names=[0,1] # name  of classes\n",
    "fig, ax = plt.subplots()\n",
    "tick_marks = np.arange(len(class_names))\n",
    "plt.xticks(tick_marks, class_names)\n",
    "plt.yticks(tick_marks, class_names)\n",
    "# create heatmap\n",
    "sns.heatmap(pd.DataFrame(cnf_matrix), annot=True, cmap=\"YlGnBu\" ,fmt='g')\n",
    "ax.xaxis.set_label_position(\"top\")\n",
    "plt.tight_layout()\n",
    "plt.title('Confusion matrix', y=1.1)\n",
    "plt.ylabel('Actual label')\n",
    "plt.xlabel('Predicted label')"
   ]
  },
  {
   "cell_type": "code",
   "execution_count": null,
   "id": "4a4cb1e5",
   "metadata": {},
   "outputs": [],
   "source": []
  }
 ],
 "metadata": {
  "kernelspec": {
   "display_name": "Python 3 (ipykernel)",
   "language": "python",
   "name": "python3"
  },
  "language_info": {
   "codemirror_mode": {
    "name": "ipython",
    "version": 3
   },
   "file_extension": ".py",
   "mimetype": "text/x-python",
   "name": "python",
   "nbconvert_exporter": "python",
   "pygments_lexer": "ipython3",
   "version": "3.9.13"
  }
 },
 "nbformat": 4,
 "nbformat_minor": 5
}
