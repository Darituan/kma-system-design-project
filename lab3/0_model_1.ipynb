{
 "cells": [
  {
   "cell_type": "code",
   "execution_count": 333,
   "id": "8281eb40",
   "metadata": {},
   "outputs": [],
   "source": [
    "import pandas as pd\n",
    "from datetime import time\n",
    "\n",
    "INPUT_DATA_FOLDER = \"data\"\n",
    "WEATHER_FILE = \"all_weather_by_hour.csv\"\n",
    "ALARMS_FILE = \"alarms.csv\"\n",
    "\n",
    "import csv\n",
    "\n",
    "with open(f\"{INPUT_DATA_FOLDER}/{WEATHER_FILE}\", newline='') as csvfile:\n",
    "    weatherTemp = list(csv.reader(csvfile))\n",
    "    \n",
    "with open(f\"{INPUT_DATA_FOLDER}/{ALARMS_FILE}\", newline='') as csvfile:\n",
    "    alarms = list(csv.reader(csvfile))[1:]\n",
    "    \n",
    "REGION_FILE = \"regions.csv\"\n",
    "with open(f\"{INPUT_DATA_FOLDER}/{REGION_FILE}\", newline='') as csvfile:\n",
    "    regions = list(csv.reader(csvfile))\n"
   ]
  },
  {
   "cell_type": "code",
   "execution_count": 301,
   "id": "181b0c22",
   "metadata": {},
   "outputs": [],
   "source": [
    "# addition funcs\n",
    "def findRegion(check):\n",
    "    if check == \"Хмельницька область\":\n",
    "        return '22'\n",
    "    #  DO NOT TOUCH THIS AND DO NOT ASK WHY I DID THIS\n",
    "    if check == ''.join(chr(65039)) + \"Донеччина\":\n",
    "        return '5'\n",
    "    for region in regions:\n",
    "        for regionTemp in region:\n",
    "            if regionTemp == check:\n",
    "                return region[4]\n",
    "    return None\n",
    "\n",
    "def alarmsToDict(alarms):\n",
    "    res = {}\n",
    "    for alarm in alarms:\n",
    "        temp = alarm[0].split(\";\")\n",
    "        check1 = findRegion(temp[2].replace(\"\\\"\", \"\").replace(\" \", \"\"))\n",
    "        check2 = findRegion(temp[3].replace(\"\\\"\", \"\").replace(\" \", \"\"))\n",
    "        if check1 is None:\n",
    "            check1 = check2\n",
    "        try:\n",
    "            res[check1]\n",
    "        except (KeyError):\n",
    "            res[check1] = []\n",
    "        res[check1].append(pd.to_datetime(temp[5].replace(\"\\\"\", \"\")))\n",
    "        res[check1].append(pd.to_datetime(temp[6].replace(\"\\\"\", \"\")))\n",
    "    return res\n",
    "\n",
    "\n",
    "    "
   ]
  },
  {
   "cell_type": "code",
   "execution_count": 311,
   "id": "c80f1be0",
   "metadata": {},
   "outputs": [],
   "source": [
    "alarmsDict = alarmsToDict(alarms)\n",
    "for key in alarmsDict.keys():\n",
    "    alarmsDict[key].sort()\n",
    "    alarmsDict[key] = list(dict.fromkeys(alarmsDict[key]))"
   ]
  },
  {
   "cell_type": "code",
   "execution_count": 236,
   "id": "38a5a671",
   "metadata": {},
   "outputs": [
    {
     "name": "stdout",
     "output_type": "stream",
     "text": [
      "dict_keys(['2', '13', '15', '6', '17', '3', '22', '19', '8', 5, '4', '11', '10', '25', '23', '16', '14', '24', '9', '20', '18', '7', '21'])\n",
      "[Timestamp('2022-02-25 22:55:42'), Timestamp('2022-02-25 23:41:53'), Timestamp('2022-02-26 08:39:39'), Timestamp('2022-02-26 10:42:41'), Timestamp('2022-02-26 10:58:23'), Timestamp('2022-02-26 11:59:40'), Timestamp('2022-02-26 16:48:36'), Timestamp('2022-02-26 17:15:37'), Timestamp('2022-02-27 10:48:03'), Timestamp('2022-02-27 11:07:09')]\n"
     ]
    }
   ],
   "source": [
    "print(alarmsDict.keys())\n",
    "print(alarmsDict['2'][:10])\n"
   ]
  },
  {
   "cell_type": "code",
   "execution_count": 427,
   "id": "3d273282",
   "metadata": {},
   "outputs": [
    {
     "name": "stdout",
     "output_type": "stream",
     "text": [
      "['city_latitude', 'city_longitude', 'city_resolvedAddress', 'city_address', 'city_timezone', 'city_tzoffset', 'day_datetime', 'day_datetimeEpoch', 'day_tempmax', 'day_tempmin', 'day_temp', 'day_feelslikemax', 'day_feelslikemin', 'day_feelslike', 'day_dew', 'day_humidity', 'day_precip', 'day_precipprob', 'day_precipcover', 'day_snow', 'day_snowdepth', 'day_windgust', 'day_windspeed', 'day_winddir', 'day_pressure', 'day_cloudcover', 'day_visibility', 'day_solarradiation', 'day_solarenergy', 'day_uvindex', 'day_severerisk', 'day_sunrise', 'day_sunriseEpoch', 'day_sunset', 'day_sunsetEpoch', 'day_moonphase', 'day_conditions', 'day_description', 'day_icon', 'day_source', 'day_preciptype', 'day_stations', 'hour_datetime', 'hour_datetimeEpoch', 'hour_temp', 'hour_feelslike', 'hour_humidity', 'hour_dew', 'hour_precip', 'hour_precipprob', 'hour_snow', 'hour_snowdepth', 'hour_preciptype', 'hour_windgust', 'hour_windspeed', 'hour_winddir', 'hour_pressure', 'hour_visibility', 'hour_cloudcover', 'hour_solarradiation', 'hour_solarenergy', 'hour_uvindex', 'hour_severerisk', 'hour_conditions', 'hour_icon', 'hour_source', 'hour_stations']\n"
     ]
    }
   ],
   "source": [
    "print(weatherTemp[0])"
   ]
  },
  {
   "cell_type": "code",
   "execution_count": 434,
   "id": "d1661afc",
   "metadata": {},
   "outputs": [],
   "source": [
    "weather = []\n",
    "weatherDate = []\n",
    "conditions = {}\n",
    "icons = {}\n",
    "for x in weatherTemp[1:]:\n",
    "    temp = x.copy()\n",
    "    temp.pop(0)\n",
    "    temp.pop(0)\n",
    "    temp.pop(1)\n",
    "    temp.pop(1)\n",
    "    temp.pop(1)\n",
    "    for y in range(35):\n",
    "        temp.pop(2)\n",
    "    temp.pop(3)\n",
    "    temp.pop(11)\n",
    "    temp[0] = findRegion(temp[0].split(\",\")[0])\n",
    "    weatherDate.append([temp[0], pd.Timestamp.combine(pd.to_datetime(temp[1]), pd.to_datetime(temp[2]).time())])\n",
    "    temp.pop(1)\n",
    "    temp.pop(1)\n",
    "    temp.pop(21)\n",
    "    temp.pop(21)\n",
    "    try:\n",
    "        conditions[temp[19]]\n",
    "    except (KeyError):\n",
    "        conditions[temp[19]] = len(conditions) + 1\n",
    "    try:\n",
    "        icons[temp[20]]\n",
    "    except (KeyError):\n",
    "        icons[temp[20]] = len(icons) + 1\n",
    "    \n",
    "    weather.append(temp.copy())\n"
   ]
  },
  {
   "cell_type": "code",
   "execution_count": 430,
   "id": "eff16777",
   "metadata": {},
   "outputs": [
    {
     "name": "stdout",
     "output_type": "stream",
     "text": [
      "['23', '4.8', '3.4', '78.06', '1.3', '0.0', '0.0', '0.0', '0.0', '11.5', '6.1', '33.8', '1024.0', '0.5', '97.8', '140.0', '0.5', '1.0', '10.0', 'Overcast', 'fog']\n",
      "['23', Timestamp('2022-02-24 15:00:00')]\n",
      "{'Partially cloudy': 1, 'Overcast': 2, 'Clear': 3, 'Snow, Overcast': 4, 'Snow, Rain, Overcast': 5, 'Rain, Overcast': 6, 'Snow, Partially cloudy': 7, 'Rain, Partially cloudy': 8, 'Rain': 9, 'Snow, Rain, Partially cloudy': 10, 'Freezing Drizzle/Freezing Rain, Overcast': 11, 'Snow': 12, 'Snow, Rain': 13, 'Ice, Overcast': 14}\n",
      "{'partly-cloudy-night': 1, 'cloudy': 2, 'fog': 3, 'clear-night': 4, 'clear-day': 5, 'partly-cloudy-day': 6, 'snow': 7, 'rain': 8, 'wind': 9}\n"
     ]
    }
   ],
   "source": [
    "print(weather[15])\n",
    "print(weatherDate[15])\n",
    "print(conditions)\n",
    "print(icons)\n"
   ]
  },
  {
   "cell_type": "code",
   "execution_count": 386,
   "id": "7f418b5b",
   "metadata": {},
   "outputs": [],
   "source": [
    "def createAlarmsFromWeatherData(weather, alarmsDict):\n",
    "    result = []\n",
    "    for weatherLine in weather:\n",
    "        started = False\n",
    "        for data in alarmsDict[weatherLine[0]]:\n",
    "            if data > (pd.Timestamp.combine(weatherLine[1], time(1, 0, 0))):\n",
    "                if started:\n",
    "                    result.append(1)\n",
    "                else:\n",
    "                    result.append(0)\n",
    "                break\n",
    "            started = not started\n",
    "        \n",
    "    return result"
   ]
  },
  {
   "cell_type": "code",
   "execution_count": 387,
   "id": "290b927b",
   "metadata": {},
   "outputs": [],
   "source": [
    "alarmsBit = createAlarmsFromWeatherData(weatherDate, alarmsDict)"
   ]
  },
  {
   "cell_type": "code",
   "execution_count": 389,
   "id": "747b4de0",
   "metadata": {},
   "outputs": [
    {
     "name": "stdout",
     "output_type": "stream",
     "text": [
      "[0, 0, 0, 0, 1, 1, 1, 1, 1, 1, 1, 1, 1, 1, 1, 1, 1, 1, 1, 1, 1, 1, 1, 1, 1, 1, 1, 1, 1, 1, 1, 1, 1, 1, 1, 1, 1, 1, 1, 1, 1, 1, 1, 1, 1, 1, 1, 1, 1, 1, 1, 1, 1, 1, 1, 1, 1, 1, 1, 1, 1, 1, 1, 1, 1, 1, 1, 1, 1, 1, 1, 1, 1, 1, 1, 1, 1, 1, 1, 1, 1, 1, 1, 1, 1, 1, 1, 1, 1, 1, 1, 1, 1, 1, 1, 1, 1, 1, 1, 1]\n"
     ]
    }
   ],
   "source": [
    "print(alarmsBit[500:600])"
   ]
  },
  {
   "cell_type": "code",
   "execution_count": 435,
   "id": "a4c82540",
   "metadata": {},
   "outputs": [],
   "source": [
    "for x in weather:\n",
    "    for i in range(len(x)):\n",
    "        if i > 18:\n",
    "            break\n",
    "        if x[i] == '':\n",
    "            x[i] = 0.0\n",
    "        else:\n",
    "            x[i] = float(x[i])\n",
    "    x[19] = conditions[x[19]]\n",
    "    x[20] = icons[x[20]]\n",
    "   \n"
   ]
  },
  {
   "cell_type": "code",
   "execution_count": 450,
   "id": "5f153051",
   "metadata": {},
   "outputs": [
    {
     "name": "stdout",
     "output_type": "stream",
     "text": [
      "190656\n",
      "190656\n"
     ]
    }
   ],
   "source": [
    "print(len(weather))\n",
    "print(len(alarmsBit))\n"
   ]
  },
  {
   "cell_type": "code",
   "execution_count": 457,
   "id": "2452324b",
   "metadata": {},
   "outputs": [
    {
     "name": "stdout",
     "output_type": "stream",
     "text": [
      "Accuracy: 0.69\n"
     ]
    }
   ],
   "source": [
    "\n",
    "import numpy\n",
    "from sklearn import linear_model\n",
    "from sklearn.model_selection import train_test_split\n",
    "\n",
    "X_train, X_test, y_train, y_test = train_test_split(weather, alarmsBit, test_size=0.20, shuffle=True)\n",
    "                                                    \n",
    "from sklearn.linear_model import LogisticRegression\n",
    "log_reg_model = LogisticRegression(max_iter=2500000)\n",
    "\n",
    "# Train (fit) the model\n",
    "log_reg_model.fit(X_train, y_train)\n",
    "\n",
    "# Make predictions\n",
    "y_pred = log_reg_model.predict(X_test) # Predictions\n",
    "y_true = y_test # True values\n",
    "\n",
    "# Model evaluation\n",
    "from sklearn.metrics import accuracy_score\n",
    "from sklearn.metrics import precision_recall_fscore_support\n",
    "import numpy as np\n",
    "\n",
    "print(\"Accuracy:\", np.round(accuracy_score(y_true, y_pred), 2))\n",
    "precision, recall, fscore, _ = precision_recall_fscore_support(y_true, y_pred,\n",
    "                                                               average='binary')"
   ]
  }
 ],
 "metadata": {
  "kernelspec": {
   "display_name": "Python 3 (ipykernel)",
   "language": "python",
   "name": "python3"
  },
  "language_info": {
   "codemirror_mode": {
    "name": "ipython",
    "version": 3
   },
   "file_extension": ".py",
   "mimetype": "text/x-python",
   "name": "python",
   "nbconvert_exporter": "python",
   "pygments_lexer": "ipython3",
   "version": "3.11.2"
  }
 },
 "nbformat": 4,
 "nbformat_minor": 5
}
