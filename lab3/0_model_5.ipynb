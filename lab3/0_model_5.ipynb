{
 "cells": [
  {
   "cell_type": "code",
   "execution_count": 1,
   "id": "bfca6641",
   "metadata": {},
   "outputs": [],
   "source": [
    "import pandas as pd\n",
    "from datetime import time\n",
    "import csv\n",
    "import pickle\n",
    "from datetime import datetime\n",
    "import numpy as np\n",
    "import matplotlib.pyplot as plt\n",
    "import seaborn as sns\n",
    "from sklearn import metrics\n",
    "import numpy\n",
    "from sklearn import linear_model\n",
    "from sklearn.model_selection import train_test_split\n",
    "from sklearn.metrics import accuracy_score\n",
    "from sklearn.metrics import precision_recall_fscore_support\n",
    "from sklearn.linear_model import LogisticRegression\n",
    "import sys\n",
    "from sklearnex import patch_sklearn\n"
   ]
  },
  {
   "cell_type": "code",
   "execution_count": 2,
   "id": "181b0c22",
   "metadata": {},
   "outputs": [],
   "source": [
    "# addition funcs\n",
    "def findRegion(check):\n",
    "    for region in regions:\n",
    "        for regionTemp in region:\n",
    "            if regionTemp == check:\n",
    "                return region[4]\n",
    "    return None\n",
    "\n",
    "def alarmsToDict(alarms):\n",
    "    res = {}\n",
    "    for alarm in alarms:\n",
    "        temp = alarm[0].split(\";\")\n",
    "        check1 = findRegion(temp[2].replace(\"\\\"\", \"\").replace(\" \", \"\"))\n",
    "        check2 = findRegion(temp[3].replace(\"\\\"\", \"\").replace(\" \", \"\"))\n",
    "        if check1 is None:\n",
    "            check1 = check2\n",
    "        try:\n",
    "            res[check1]\n",
    "        except (KeyError):\n",
    "            res[check1] = []\n",
    "        res[check1].append(pd.to_datetime(temp[5].replace(\"\\\"\", \"\")))\n",
    "        res[check1].append(pd.to_datetime(temp[6].replace(\"\\\"\", \"\")))\n",
    "    return res\n",
    "\n",
    "def findDate(dates, dateTemp):\n",
    "    for date in dates:\n",
    "        if date == dateTemp:\n",
    "            return True\n",
    "        if date > dateTemp:\n",
    "            return False\n",
    "    return False\n",
    "\n",
    "\n",
    "def findVector(vectors, dates, date):\n",
    "    for i in range(len(dates)):\n",
    "        if dates[i] == date:\n",
    "            return vectors[i]\n",
    "            \n",
    "    return None\n",
    "\n",
    "def getAlarmByDate(location, date, alarmsDict):\n",
    "    started = False\n",
    "    for data in alarmsDict[location]:\n",
    "        if data > (date + pd.Timedelta(hours=1, minutes=0, seconds=0)):\n",
    "            if started:\n",
    "                return 1\n",
    "            else:\n",
    "                return 0\n",
    "            break\n",
    "        started = not started\n",
    "    return 0"
   ]
  },
  {
   "cell_type": "code",
   "execution_count": 3,
   "id": "8281eb40",
   "metadata": {},
   "outputs": [
    {
     "name": "stdout",
     "output_type": "stream",
     "text": [
      "32\n",
      "<class 'numpy.int64'>\n",
      "24\n",
      "<class 'float'>\n"
     ]
    }
   ],
   "source": [
    "INPUT_DATA_FOLDER = \"data/modified\"\n",
    "WEATHER_FILE = \"all_weather_by_hour6.csv\"\n",
    "ALARMS_FILE = \"alarms.csv\"\n",
    "REGION_FILE = \"regions.csv\"\n",
    "DATES_FILE = \"dates.pkl\"\n",
    "VECTOR_FILE = \"word_count_vector.pkl\"\n",
    "\n",
    "with open(f\"{INPUT_DATA_FOLDER}/{VECTOR_FILE}\", 'rb') as datafile:\n",
    "    vectors = pickle.load(datafile)\n",
    "\n",
    "vectors = vectors.toarray()\n",
    "vectorsFloat = []\n",
    "print(sys.getsizeof(vectors[0][0]))\n",
    "print(type(vectors[0][0]))\n",
    "\n",
    "for i in range(len(vectors)):\n",
    "    vectorsFloat.append([])\n",
    "    for j in range(len(vectors[i])):\n",
    "        vectorsFloat[i].append(float(vectors[i][j]))\n",
    "\n",
    "vectors = []\n",
    "print(sys.getsizeof(vectorsFloat[0][0]))\n",
    "print(type(vectorsFloat[0][0]))\n",
    "with open(f\"{INPUT_DATA_FOLDER}/{WEATHER_FILE}\", newline='') as csvfile:\n",
    "    test_data = list(csv.reader(csvfile))[1:]\n",
    "    \n",
    "with open(f\"{INPUT_DATA_FOLDER}/{ALARMS_FILE}\", newline='') as csvfile:\n",
    "    alarms = list(csv.reader(csvfile))[1:]\n",
    "    \n",
    "with open(f\"{INPUT_DATA_FOLDER}/{REGION_FILE}\", newline='') as csvfile:\n",
    "    regions = list(csv.reader(csvfile))\n",
    "    \n",
    "with open(f\"{INPUT_DATA_FOLDER}/{DATES_FILE}\", 'rb') as datafile:\n",
    "    dates = pickle.load(datafile)\n",
    "    \n",
    "for i in range(len(dates)):\n",
    "    dates[i] = pd.to_datetime(dates[i].replace(\".txt\", \"\"), format=\"%d:%m:%y\")\n",
    "dates = sorted(dates)\n",
    "\n"
   ]
  },
  {
   "cell_type": "code",
   "execution_count": 4,
   "id": "c80f1be0",
   "metadata": {},
   "outputs": [],
   "source": [
    "alarmsDict = alarmsToDict(alarms)\n",
    "for key in alarmsDict.keys():\n",
    "    alarmsDict[key].sort()\n",
    "    alarmsDict[key] = list(dict.fromkeys(alarmsDict[key]))"
   ]
  },
  {
   "cell_type": "code",
   "execution_count": 5,
   "id": "38a5a671",
   "metadata": {},
   "outputs": [
    {
     "name": "stdout",
     "output_type": "stream",
     "text": [
      "dict_keys(['2', '13', '15', '6', '17', '3', '22', '19', '8', '5', '4', '11', '10', '25', '23', '16', '14', '24', '9', '20', '18', '7', '21'])\n",
      "[Timestamp('2022-02-25 22:55:42'), Timestamp('2022-02-25 23:41:53'), Timestamp('2022-02-26 08:39:39'), Timestamp('2022-02-26 10:42:41'), Timestamp('2022-02-26 10:58:23'), Timestamp('2022-02-26 11:59:40'), Timestamp('2022-02-26 16:48:36'), Timestamp('2022-02-26 17:15:37'), Timestamp('2022-02-27 10:48:03'), Timestamp('2022-02-27 11:07:09')]\n"
     ]
    }
   ],
   "source": [
    "print(alarmsDict.keys())\n",
    "print(alarmsDict['2'][:10])\n"
   ]
  },
  {
   "cell_type": "code",
   "execution_count": 6,
   "id": "3d273282",
   "metadata": {},
   "outputs": [
    {
     "name": "stdout",
     "output_type": "stream",
     "text": [
      "['Р§РµСЂРєР°СЃРё, РЈРєСЂР°С—РЅР°', '2/24/2022', '4.9', '-0.1', '1.9', '4.4', '-0.1', '1.6', '-0.6', '83.4', '0', '0', '0', '0', '0', '14.4', '8.3', '47.6', '1023.2', '69.4', '12.2', '47.4', '4.4', '2', '10', '1645677881', '1645716365', '0.77', 'Partially cloudy', 'partly-cloudy-day', '0:00:00', '0.9', '0.9', '75.73', '-2.9', '0', '0', '0', '0', '7.2', '4', '132', '1020', '24.1', '89', '0', '', '0', '10', 'Partially cloudy', 'partly-cloudy-night']\n",
      "partly-cloudy-night\n"
     ]
    }
   ],
   "source": [
    "print(test_data[0])\n",
    "print(test_data[0][50])"
   ]
  },
  {
   "cell_type": "code",
   "execution_count": 7,
   "id": "d1661afc",
   "metadata": {},
   "outputs": [
    {
     "name": "stdout",
     "output_type": "stream",
     "text": [
      "190656\n",
      "0\n",
      "10000\n",
      "20000\n",
      "30000\n",
      "40000\n",
      "50000\n",
      "60000\n",
      "70000\n",
      "80000\n",
      "90000\n",
      "100000\n",
      "110000\n",
      "120000\n",
      "130000\n",
      "140000\n",
      "150000\n",
      "160000\n",
      "170000\n",
      "180000\n",
      "190000\n"
     ]
    }
   ],
   "source": [
    "alarmsBit = []\n",
    "dayConditions = {}\n",
    "dayIcons = {}\n",
    "hourConditions = {}\n",
    "hourIcons = {}\n",
    "dayConditionsIndex = 28\n",
    "dayIconsIndex = 29\n",
    "hourConditionsIndex = 48\n",
    "hourIconsIndex = 49\n",
    "indexsToRemove = []\n",
    "print(len(test_data))\n",
    "for i in range(len(test_data)):\n",
    "    if i % 10000 == 0:\n",
    "        print(i)\n",
    "    x = test_data[i]\n",
    "    x[0] = findRegion(x[0].split(\",\")[0])\n",
    "    date = pd.to_datetime(x[1])\n",
    "    if not findDate(dates, date):\n",
    "        indexsToRemove.append(i - len(indexsToRemove))\n",
    "        continue\n",
    "    alarmsBit.append(getAlarmByDate(x[0], pd.Timestamp.combine(date, pd.to_datetime(x[30]).time()), alarmsDict)) \n",
    "#     remove  time\n",
    "    x.pop(30)\n",
    "    try:\n",
    "        x[dayConditionsIndex] = dayConditions[x[dayConditionsIndex]]\n",
    "    except (KeyError):\n",
    "        dayConditions[x[dayConditionsIndex]] = len(dayConditions) + 1\n",
    "        x[dayConditionsIndex] = dayConditions[x[dayConditionsIndex]]\n",
    "    try:\n",
    "        x[dayIconsIndex] = dayIcons[x[dayIconsIndex]]\n",
    "    except (KeyError):\n",
    "        dayIcons[x[dayIconsIndex]] = len(dayIcons) + 1\n",
    "        x[dayIconsIndex] = dayIcons[x[dayIconsIndex]]\n",
    "    \n",
    "    try:\n",
    "        x[hourConditionsIndex] = hourConditions[x[hourConditionsIndex]]\n",
    "    except (KeyError):\n",
    "        hourConditions[x[hourConditionsIndex]] = len(hourConditions) + 1\n",
    "        x[hourConditionsIndex] = hourConditions[x[hourConditionsIndex]]\n",
    "    try:\n",
    "        x[hourIconsIndex] = hourIcons[x[hourIconsIndex]]\n",
    "    except (KeyError):\n",
    "        hourIcons[x[hourIconsIndex]] = len(hourIcons) + 1\n",
    "        x[hourIconsIndex] = hourIcons[x[hourIconsIndex]]\n",
    "    \n",
    "#     remove date\n",
    "    x.pop(1)\n",
    "    vector = findVector(vectorsFloat, dates, date)\n",
    "    if vector is None:\n",
    "        print(date)\n",
    "        continue\n",
    "    x.extend(vector)\n",
    "    \n",
    "#     weather.append(temp.copy())\n",
    "dayConditions = {}\n",
    "dayIcons = {}\n",
    "hourConditions = {}\n",
    "hourIcons = {}\n",
    "alarmsDict = {}\n",
    "vectorsFloat = []"
   ]
  },
  {
   "cell_type": "code",
   "execution_count": 8,
   "id": "eff16777",
   "metadata": {},
   "outputs": [
    {
     "name": "stdout",
     "output_type": "stream",
     "text": [
      "1728\n",
      "188928\n"
     ]
    }
   ],
   "source": [
    "print(len(indexsToRemove))\n",
    "\n",
    "for index in indexsToRemove:\n",
    "    test_data.pop(index)\n",
    "# print(len(test_data))\n",
    "print(len(alarmsBit))"
   ]
  },
  {
   "cell_type": "code",
   "execution_count": 9,
   "id": "a4c82540",
   "metadata": {},
   "outputs": [],
   "source": [
    "types = {}\n",
    "# for x in range(len(alarmsBit)):\n",
    "#     if type(alarmsBit[x]) is not int:\n",
    "#         alarmsBit[x] = 0\n",
    "            \n",
    "for x in range(len(alarmsBit)):\n",
    "    types[type(alarmsBit[x])] = 1\n",
    "   \n"
   ]
  },
  {
   "cell_type": "code",
   "execution_count": 10,
   "id": "5f153051",
   "metadata": {},
   "outputs": [
    {
     "name": "stdout",
     "output_type": "stream",
     "text": [
      "{<class 'int'>: 1}\n"
     ]
    }
   ],
   "source": [
    "print(types)"
   ]
  },
  {
   "cell_type": "code",
   "execution_count": 11,
   "id": "a4848f44",
   "metadata": {},
   "outputs": [],
   "source": [
    "for x in test_data:\n",
    "    for i in range(len(x)):\n",
    "        if x[i] == '':\n",
    "            x[i] = 0.0\n",
    "        if type(x[i]) is str:\n",
    "            x[i] = float(x[i])\n",
    "        if type(x[i]) is int:\n",
    "            x[i] = float(x[i])"
   ]
  },
  {
   "cell_type": "code",
   "execution_count": 12,
   "id": "f1dc5844",
   "metadata": {},
   "outputs": [],
   "source": [
    "types = {}\n",
    "for x in test_data:\n",
    "    for i in range(len(x)):\n",
    "        types[type(x[i])] = 1"
   ]
  },
  {
   "cell_type": "code",
   "execution_count": 13,
   "id": "2e241232",
   "metadata": {},
   "outputs": [
    {
     "name": "stdout",
     "output_type": "stream",
     "text": [
      "1\n"
     ]
    },
    {
     "name": "stderr",
     "output_type": "stream",
     "text": [
      "Intel(R) Extension for Scikit-learn* enabled (https://github.com/intel/scikit-learn-intelex)\n"
     ]
    }
   ],
   "source": [
    "patch_sklearn()"
   ]
  },
  {
   "cell_type": "code",
   "execution_count": 14,
   "id": "2452324b",
   "metadata": {},
   "outputs": [
    {
     "name": "stdout",
     "output_type": "stream",
     "text": [
      "Accuracy: 0.68\n"
     ]
    },
    {
     "name": "stderr",
     "output_type": "stream",
     "text": [
      "F:\\ml\\code\\kma-system-design-project\\venv\\lib\\site-packages\\sklearn\\metrics\\_classification.py:1344: UndefinedMetricWarning: Precision and F-score are ill-defined and being set to 0.0 due to no predicted samples. Use `zero_division` parameter to control this behavior.\n",
      "  _warn_prf(average, modifier, msg_start, len(result))\n"
     ]
    },
    {
     "data": {
      "text/plain": [
       "Text(0.5, 427.9555555555555, 'Predicted label')"
      ]
     },
     "execution_count": 14,
     "metadata": {},
     "output_type": "execute_result"
    },
    {
     "data": {
      "image/png": "[encoded data removed]",
      "text/plain": [
       "<Figure size 640x480 with 2 Axes>"
      ]
     },
     "metadata": {},
     "output_type": "display_data"
    }
   ],
   "source": [
    "from sklearn import svm\n",
    "    \n",
    "X_train, X_test, y_train, y_test = train_test_split(test_data, alarmsBit, test_size=0.20, shuffle=True)\n",
    "\n",
    "clf = svm.SVC(max_iter=2500)\n",
    "clf.fit(X_train, y_train)\n",
    "with open(f\"models/model_SVC.pkl\", \"wb\") as handle:\n",
    "    pickle.dump(clf, handle)\n",
    "\n",
    "y_pred = clf.predict(X_test) # Predictions\n",
    "y_true = y_test # True values\n",
    "print(\"Accuracy:\", np.round(accuracy_score(y_true, y_pred), 2))\n",
    "precision, recall, fscore, _ = precision_recall_fscore_support(y_true, y_pred,\n",
    "                                                               average='binary')"
   ]
  },
  {
   "cell_type": "code",
   "execution_count": 15,
   "id": "cc3a2b16",
   "metadata": {},
   "outputs": [
    {
     "data": {
      "text/plain": [
       "array([[25696,     0],\n",
       "       [12090,     0]], dtype=int64)"
      ]
     },
     "execution_count": 15,
     "metadata": {},
     "output_type": "execute_result"
    }
   ],
   "source": [
    "# import the metrics class\n",
    "\n",
    "cnf_matrix = metrics.confusion_matrix(y_test, y_pred)\n",
    "cnf_matrix"
   ]
  },
  {
   "cell_type": "code",
   "execution_count": 16,
   "id": "89e2f728",
   "metadata": {},
   "outputs": [
    {
     "data": {
      "text/plain": [
       "Text(0.5, 427.9555555555555, 'Predicted label')"
      ]
     },
     "execution_count": 16,
     "metadata": {},
     "output_type": "execute_result"
    },
    {
     "data": {
      "image/png": "[encoded data removed]",
      "text/plain": [
       "<Figure size 640x480 with 2 Axes>"
      ]
     },
     "metadata": {},
     "output_type": "display_data"
    }
   ],
   "source": [
    "\n",
    "\n",
    "class_names=[0,1] # name  of classes\n",
    "fig, ax = plt.subplots()\n",
    "tick_marks = np.arange(len(class_names))\n",
    "plt.xticks(tick_marks, class_names)\n",
    "plt.yticks(tick_marks, class_names)\n",
    "# create heatmap\n",
    "sns.heatmap(pd.DataFrame(cnf_matrix), annot=True, cmap=\"YlGnBu\" ,fmt='g')\n",
    "ax.xaxis.set_label_position(\"top\")\n",
    "plt.tight_layout()\n",
    "plt.title('Confusion matrix', y=1.1)\n",
    "plt.ylabel('Actual label')\n",
    "plt.xlabel('Predicted label')\n",
    "\n"
   ]
  },
  {
   "cell_type": "code",
   "execution_count": null,
   "id": "cafdaa36",
   "metadata": {},
   "outputs": [],
   "source": []
  }
 ],
 "metadata": {
  "kernelspec": {
   "display_name": "Python 3 (ipykernel)",
   "language": "python",
   "name": "python3"
  },
  "language_info": {
   "codemirror_mode": {
    "name": "ipython",
    "version": 3
   },
   "file_extension": ".py",
   "mimetype": "text/x-python",
   "name": "python",
   "nbconvert_exporter": "python",
   "pygments_lexer": "ipython3",
   "version": "3.9.13"
  }
 },
 "nbformat": 4,
 "nbformat_minor": 5
}
