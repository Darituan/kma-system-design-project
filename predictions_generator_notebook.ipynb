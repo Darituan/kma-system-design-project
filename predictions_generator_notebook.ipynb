{
 "cells": [
  {
   "cell_type": "code",
   "execution_count": null,
   "outputs": [],
   "source": [
    "import csv\n",
    "import pickle\n",
    "import pandas as pd\n",
    "\n",
    "INPUT_DATA_FOLDER = \"lab3/data/modified\"\n",
    "MODELS_FOLDER=\"lab3/models\"\n",
    "MODEL_FILE=\"model_3_tuned_no_sklearnx.pkl\"\n",
    "REGION_FILE = \"regions.csv\"\n",
    "DATES_FILE = \"dates.pkl\"\n",
    "VECTOR_FILE = \"word_count_vector.pkl\"\n",
    "\n",
    "with open(f\"{INPUT_DATA_FOLDER}/{VECTOR_FILE}\", 'rb') as datafile:\n",
    "    vectors = pickle.load(datafile)\n",
    "\n",
    "vectors = vectors.toarray()\n",
    "vectorsFloat = []\n",
    "\n",
    "for i in range(len(vectors)):\n",
    "    vectorsFloat.append([])\n",
    "    for j in range(len(vectors[i])):\n",
    "        vectorsFloat[i].append(float(vectors[i][j]))\n",
    "\n",
    "vectors = []\n",
    "\n",
    "\n",
    "with open(f\"{INPUT_DATA_FOLDER}/{REGION_FILE}\", newline='') as csvfile:\n",
    "    regions = list(csv.reader(csvfile))\n",
    "\n",
    "with open(f\"{INPUT_DATA_FOLDER}/{DATES_FILE}\", 'rb') as datafile:\n",
    "    dates = pickle.load(datafile)\n",
    "\n",
    "for i in range(len(dates)):\n",
    "    dates[i] = pd.to_datetime(dates[i].replace(\".txt\", \"\"), format=\"%d:%m:%y\")\n",
    "dates = sorted(dates)"
   ],
   "metadata": {
    "collapsed": false,
    "ExecuteTime": {
     "start_time": "2023-04-24T02:53:54.246237Z",
     "end_time": "2023-04-24T02:53:54.967905Z"
    }
   }
  },
  {
   "cell_type": "code",
   "execution_count": null,
   "outputs": [],
   "source": [
    "import pickle\n",
    "import pandas as pd\n",
    "\n",
    "\n",
    "# addition funcs\n",
    "def findRegion(check):\n",
    "    for region in regions:\n",
    "        for regionTemp in region:\n",
    "            if regionTemp == check:\n",
    "                return region[4]\n",
    "    return None\n",
    "\n",
    "def findRegionName(regiond_id):\n",
    "    for region in regions:\n",
    "        if region[4]==regiond_id:\n",
    "            return region[2]\n",
    "    return None\n",
    "\n",
    "\n",
    "def findDate(dates, dateTemp):\n",
    "    for date in dates:\n",
    "        if date == dateTemp:\n",
    "            return True\n",
    "        if date > dateTemp:\n",
    "            return False\n",
    "    return False\n",
    "\n",
    "\n",
    "def findVector(vectors, dates, date):\n",
    "    for i in range(len(dates)):\n",
    "        if dates[i] == date:\n",
    "            return vectors[i]\n",
    "\n",
    "    return None\n",
    "\n",
    "\n",
    "def getAlarmByDate(location, date, alarmsDict):\n",
    "    started = False\n",
    "    for data in alarmsDict[location]:\n",
    "        if data > (date + pd.Timedelta(hours=1, minutes=0, seconds=0)):\n",
    "            if started:\n",
    "                return 1\n",
    "            else:\n",
    "                return 0\n",
    "            break\n",
    "        started = not started\n",
    "    return 0\n"
   ],
   "metadata": {
    "collapsed": false,
    "ExecuteTime": {
     "start_time": "2023-04-24T02:53:54.969984Z",
     "end_time": "2023-04-24T02:53:54.974895Z"
    }
   }
  },
  {
   "cell_type": "code",
   "execution_count": null,
   "outputs": [],
   "source": [
    "import json\n",
    "import requests\n",
    "\n",
    "url = \"http://localhost:8080/forecast\"\n",
    "\n",
    "response = requests.get(url)\n",
    "\n",
    "if response.status_code == 200:\n",
    "    data = json.loads(response.text)\n",
    "    #print(data)\n",
    "else:\n",
    "    print(f\"Error: {response.status_code}\")\n",
    "    exit()\n"
   ],
   "metadata": {
    "collapsed": false,
    "ExecuteTime": {
     "start_time": "2023-04-24T02:53:54.977557Z",
     "end_time": "2023-04-24T02:53:57.832252Z"
    }
   }
  },
  {
   "cell_type": "code",
   "execution_count": null,
   "outputs": [],
   "source": [
    "import pickle\n",
    "\n",
    "test_data = []\n",
    "prediction_descriptions=[]\n",
    "for line in data['data']:\n",
    "    words = line.split(',')\n",
    "    test_data.append(words)\n",
    "    desc=[words[0]]\n",
    "    prediction_descriptions.append([findRegionName(words[0]),words[17][0:5]])"
   ],
   "metadata": {
    "collapsed": false,
    "ExecuteTime": {
     "start_time": "2023-04-24T02:53:57.832819Z",
     "end_time": "2023-04-24T02:53:57.879809Z"
    }
   }
  },
  {
   "cell_type": "code",
   "execution_count": null,
   "outputs": [],
   "source": [
    "\n",
    "alarmsBit = []\n",
    "dayConditions = {}\n",
    "hourConditions = {}\n",
    "dayConditionsIndex = 16\n",
    "hourConditionsIndex = 29\n",
    "indexsToRemove = []\n",
    "for i in range(len(test_data)):\n",
    "    if i % 10000 == 0:\n",
    "        print(i)\n",
    "    x = test_data[i]\n",
    "    aaa = findRegion(x[0].split(\",\")[0])\n",
    "    if aaa is None:\n",
    "        print(x)\n",
    "    x[0] = aaa\n",
    "    date = pd.to_datetime(x[1])\n",
    "    # if not findDate(dates, date):\n",
    "    #     indexsToRemove.append(i - len(indexsToRemove))\n",
    "    #     continue\n",
    "    #     remove  time\n",
    "\n",
    "    x.pop(17)\n",
    "    try:\n",
    "        x[dayConditionsIndex] = dayConditions[x[dayConditionsIndex]]\n",
    "    except (KeyError):\n",
    "        dayConditions[x[dayConditionsIndex]] = len(dayConditions) + 1\n",
    "        x[dayConditionsIndex] = dayConditions[x[dayConditionsIndex]]\n",
    "\n",
    "    try:\n",
    "        x[hourConditionsIndex] = hourConditions[x[hourConditionsIndex]]\n",
    "    except (KeyError):\n",
    "        hourConditions[x[hourConditionsIndex]] = len(hourConditions) + 1\n",
    "        x[hourConditionsIndex] = hourConditions[x[hourConditionsIndex]]\n",
    "\n",
    "    #     remove date\n",
    "    x.pop(1)\n",
    "    # vector = findVector(vectorsFloat, dates, date)\n",
    "    # if vector is None:\n",
    "    #     print(date)\n",
    "    #     continue\n",
    "    # x.extend(vector)\n",
    "\n",
    "#     weather.append(temp.copy())\n",
    "dayConditions = {}\n",
    "dayIcons = {}\n",
    "hourConditions = {}\n",
    "hourIcons = {}\n",
    "alarmsDict = {}\n",
    "vectorsFloat = []\n"
   ],
   "metadata": {
    "collapsed": false,
    "ExecuteTime": {
     "start_time": "2023-04-24T02:53:57.891558Z",
     "end_time": "2023-04-24T02:53:57.975211Z"
    }
   }
  },
  {
   "cell_type": "code",
   "execution_count": null,
   "outputs": [],
   "source": [
    "print(len(indexsToRemove))\n",
    "print(len(test_data))\n",
    "for index in indexsToRemove:\n",
    "    test_data.pop(index)\n",
    "\n",
    "\n",
    "for x in test_data:\n",
    "    for i in range(len(x)):\n",
    "        if x[i] == '':\n",
    "            x[i] = 0.0\n",
    "        if type(x[i]) is str:\n",
    "            x[i] = float(x[i])\n",
    "        if type(x[i]) is int:\n",
    "            x[i] = float(x[i])\n",
    "for x in test_data:\n",
    "    for n in range(6748-len(x)):\n",
    "        x.append(0.0)"
   ],
   "metadata": {
    "collapsed": false,
    "ExecuteTime": {
     "start_time": "2023-04-24T02:53:58.027932Z",
     "end_time": "2023-04-24T02:53:58.138794Z"
    }
   }
  },
  {
   "cell_type": "code",
   "execution_count": null,
   "outputs": [],
   "source": [
    "\n",
    "pickled_model = pickle.load(open(f'{MODELS_FOLDER}/{MODEL_FILE}', 'rb'))\n",
    "prediction=pickled_model.predict(test_data)"
   ],
   "metadata": {
    "collapsed": false,
    "ExecuteTime": {
     "start_time": "2023-04-24T02:53:58.139455Z",
     "end_time": "2023-04-24T02:53:58.218704Z"
    }
   }
  },
  {
   "cell_type": "code",
   "execution_count": null,
   "outputs": [],
   "source": [
    "import os\n",
    "from datetime import datetime\n",
    "now = datetime.utcnow()\n",
    "result={}\n",
    "#formatted_result['regions_forecast']={}\n",
    "for n in range(len(prediction)):\n",
    "    prediction[n]=round(prediction[n])\n",
    "    alarm_expected=bool(prediction[n]==1)\n",
    "    place=prediction_descriptions[n][0]\n",
    "    time=prediction_descriptions[n][1]\n",
    "    if place not in result:\n",
    "        result[place]={}\n",
    "    result[place][time]=alarm_expected\n",
    "\n",
    "modified_time = os.path.getmtime(f\"{MODELS_FOLDER}/{MODEL_FILE}\")\n",
    "\n",
    "modified_datetime = datetime.utcfromtimestamp(modified_time)\n",
    "\n",
    "formatted_date = modified_datetime.strftime(\"%Y-%m-%dT%H:%M:%SZ\")\n",
    "\n",
    "formatted_result={\n",
    "    \"last_model_train_time\":formatted_date,\n",
    "    \"last_prediction_time\":now.strftime(\"%Y-%m-%dT%H:%M:%SZ\"),\n",
    "    \"regions_forecast\":result\n",
    "}\n",
    "with open(\"predictions_all.json\", \"w\") as f:\n",
    "    # Write the dictionary to the file in JSON format\n",
    "    json.dump(formatted_result, f)\n"
   ],
   "metadata": {
    "collapsed": false,
    "ExecuteTime": {
     "start_time": "2023-04-24T02:53:58.221563Z",
     "end_time": "2023-04-24T02:53:58.224657Z"
    }
   }
  }
 ],
 "metadata": {
  "kernelspec": {
   "display_name": "Python 3",
   "language": "python",
   "name": "python3"
  },
  "language_info": {
   "codemirror_mode": {
    "name": "ipython",
    "version": 2
   },
   "file_extension": ".py",
   "mimetype": "text/x-python",
   "name": "python",
   "nbconvert_exporter": "python",
   "pygments_lexer": "ipython2",
   "version": "2.7.6"
  }
 },
 "nbformat": 4,
 "nbformat_minor": 0
}
